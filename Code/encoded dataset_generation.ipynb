{
 "cells": [
  {
   "cell_type": "code",
   "execution_count": 10,
   "id": "d4ad8d1c",
   "metadata": {},
   "outputs": [],
   "source": [
    "#import mahotas\n",
    "import os\n",
    "\n",
    "\n",
    "import pandas as pd\n",
    "import numpy as np\n",
    "import matplotlib.pyplot as plt\n",
    "%matplotlib inline\n",
    "\n",
    "from sklearn import svm, metrics, datasets\n",
    "from sklearn.preprocessing import LabelEncoder\n",
    "#from sklearn.preprocessing import OneHotEncoder\n",
    "#from sklearn.preprocessing import MinMaxScaler\n",
    "from sklearn.model_selection import train_test_split, cross_val_score,GridSearchCV\n",
    "from sklearn.metrics import classification_report\n",
    "\n",
    "#from skimage.feature import local_binary_pattern\n",
    "#from scipy.stats import itemfreq \n",
    "#from sklearn.preprocessing import normalize\n",
    "#from skimage.io import imread, imshow\n",
    "#from skimage.transform import resize\n",
    "#from skimage import exposure\n",
    "#from skimage.feature import hog\n"
   ]
  },
  {
   "cell_type": "code",
   "execution_count": 11,
   "id": "74c9fd5c",
   "metadata": {},
   "outputs": [],
   "source": [
    "#data preparation\n",
    "data_org = pd.read_csv(\"dataset/uet-dataset.csv\")\n",
    "\n",
    "#data processing\n",
    "data_labels = data_org['policy_staus']\n",
    "data_features = data_org.iloc[:, : 14]"
   ]
  },
  {
   "cell_type": "code",
   "execution_count": 12,
   "id": "1e3a4f13",
   "metadata": {},
   "outputs": [],
   "source": [
    "data_labels = data_labels.head(20000)\n",
    "data_features = data_org.head(20000)"
   ]
  },
  {
   "cell_type": "code",
   "execution_count": 13,
   "id": "381d378a",
   "metadata": {},
   "outputs": [],
   "source": [
    "cols = data_org.columns.tolist()"
   ]
  },
  {
   "cell_type": "code",
   "execution_count": 14,
   "id": "c402d661",
   "metadata": {},
   "outputs": [
    {
     "name": "stdout",
     "output_type": "stream",
     "text": [
      "cols:  ['timestamp', 'policy_id', 'uuid', 'designation', 'deptt', 'domain', 'log_host_device', 'device_type', 'mac_address', 'src_ip', 'dst_ip', 'src_port', 'dst_port', 'event_status', 'policy_staus']\n",
      "cols.type:  <class 'list'>\n"
     ]
    }
   ],
   "source": [
    "print(\"cols: \", cols)\n",
    "print(\"cols.type: \", type(cols))"
   ]
  },
  {
   "cell_type": "code",
   "execution_count": 15,
   "id": "f67e28cc",
   "metadata": {},
   "outputs": [],
   "source": [
    "cols.remove('timestamp')\n",
    "cols.remove('policy_id')\n",
    "cols.remove('src_port')\n",
    "cols.remove('dst_port')\n",
    "cols.remove('event_status')\n",
    "cols.remove('policy_staus')"
   ]
  },
  {
   "cell_type": "code",
   "execution_count": 16,
   "id": "3d44c839",
   "metadata": {},
   "outputs": [
    {
     "name": "stdout",
     "output_type": "stream",
     "text": [
      "cols:  ['uuid', 'designation', 'deptt', 'domain', 'log_host_device', 'device_type', 'mac_address', 'src_ip', 'dst_ip']\n"
     ]
    }
   ],
   "source": [
    "print(\"cols: \", cols)"
   ]
  },
  {
   "cell_type": "code",
   "execution_count": 17,
   "id": "60d134ce",
   "metadata": {},
   "outputs": [
    {
     "name": "stderr",
     "output_type": "stream",
     "text": [
      "c:\\users\\msi\\desktop\\ai pol\\pol_env\\lib\\site-packages\\ipykernel_launcher.py:7: SettingWithCopyWarning: \n",
      "A value is trying to be set on a copy of a slice from a DataFrame.\n",
      "Try using .loc[row_indexer,col_indexer] = value instead\n",
      "\n",
      "See the caveats in the documentation: https://pandas.pydata.org/pandas-docs/stable/user_guide/indexing.html#returning-a-view-versus-a-copy\n",
      "  import sys\n"
     ]
    }
   ],
   "source": [
    "label_encoder = LabelEncoder()\n",
    "data_encoded = data_features\n",
    "data_org_backup = data_features\n",
    "data_org_copy = data_features\n",
    "for i in range(len(cols)):\n",
    "    encoded_col = label_encoder.fit_transform((data_org_copy[cols[i]]))\n",
    "    data_encoded[cols[i]] = encoded_col"
   ]
  },
  {
   "cell_type": "code",
   "execution_count": 18,
   "id": "21711bfe",
   "metadata": {},
   "outputs": [],
   "source": [
    "data_encoded.to_csv('dataset/encoded.csv', index = None, header=True)"
   ]
  },
  {
   "cell_type": "code",
   "execution_count": null,
   "id": "f972d68c",
   "metadata": {},
   "outputs": [],
   "source": []
  },
  {
   "cell_type": "code",
   "execution_count": null,
   "id": "200eecee",
   "metadata": {},
   "outputs": [],
   "source": []
  },
  {
   "cell_type": "code",
   "execution_count": null,
   "id": "ce4e08de",
   "metadata": {},
   "outputs": [],
   "source": []
  }
 ],
 "metadata": {
  "kernelspec": {
   "display_name": "Python 3 (ipykernel)",
   "language": "python",
   "name": "python3"
  },
  "language_info": {
   "codemirror_mode": {
    "name": "ipython",
    "version": 3
   },
   "file_extension": ".py",
   "mimetype": "text/x-python",
   "name": "python",
   "nbconvert_exporter": "python",
   "pygments_lexer": "ipython3",
   "version": "3.7.6"
  }
 },
 "nbformat": 4,
 "nbformat_minor": 5
}
